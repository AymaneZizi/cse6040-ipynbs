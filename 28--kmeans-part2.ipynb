{
 "cells": [
  {
   "cell_type": "markdown",
   "metadata": {},
   "source": [
    "# CSE 6040, Fall 2015 [28]: K-means Clustering, Part 2"
   ]
  },
  {
   "cell_type": "markdown",
   "metadata": {},
   "source": [
    "Last time, we implemented the basic version of K-means. In this lecture we will explore some advanced techniques\n",
    "to improve performance of K-means."
   ]
  },
  {
   "cell_type": "code",
   "execution_count": null,
   "metadata": {
    "collapsed": true
   },
   "outputs": [],
   "source": [
    "import numpy as np\n",
    "import pandas as pd\n",
    "import seaborn as sns\n",
    "\n",
    "%matplotlib inline"
   ]
  },
  {
   "cell_type": "markdown",
   "metadata": {},
   "source": [
    "### Read in data"
   ]
  },
  {
   "cell_type": "code",
   "execution_count": null,
   "metadata": {
    "collapsed": true
   },
   "outputs": [],
   "source": [
    "df = pd.read_csv ('http://vuduc.org/cse6040/logreg_points_train.csv')\n",
    "points = df.as_matrix (['x_1', 'x_2'])\n",
    "labels = df['label'].as_matrix ()\n",
    "n = points.shape[0]\n",
    "d = points.shape[1]\n",
    "k = 2"
   ]
  },
  {
   "cell_type": "code",
   "execution_count": null,
   "metadata": {
    "collapsed": true
   },
   "outputs": [],
   "source": [
    "def init_centers(X, k):\n",
    "    sampling = np.random.randint(0, n, k)\n",
    "    return X[sampling, :]"
   ]
  },
  {
   "cell_type": "markdown",
   "metadata": {},
   "source": [
    "### Fast implementation of the distance matrix computation\n",
    "The idea is that $$||(x - c)||^2 = ||x||^2 -  2\\langle x, c \\rangle + ||c||^2 $$\n",
    "This has many advantages.\n",
    "1. The centers are fixed (during a single iteration), so only needs to compute once\n",
    "2. Data points are usually sparse, but centers are not\n",
    "3. If implement cleverly, we don't need to use for loops"
   ]
  },
  {
   "cell_type": "code",
   "execution_count": null,
   "metadata": {
    "collapsed": true
   },
   "outputs": [],
   "source": [
    "def compute_d2(X, centers):\n",
    "    D = np.empty((n, k))   \n",
    "    for i in range(n):\n",
    "        D[i, :] = np.linalg.norm(X[i,:] - centers, axis=1) ** 2\n",
    "    \n",
    "    return D"
   ]
  },
  {
   "cell_type": "code",
   "execution_count": null,
   "metadata": {
    "collapsed": true
   },
   "outputs": [],
   "source": [
    "def compute_d2_fast(X, centers):\n",
    "\n",
    "    # @YOUSE: compute a length-n array, where each entry is the square of norm of a point\n",
    "    first_term = \n",
    "\n",
    "    # @YOUSE: compute a (n * k) matrix, where entry (i,j) is the two times of inner product of row i of X and row j of centers\n",
    "    second_term = \n",
    "\n",
    "    # @YOUSE: compute a length-k array, where each entry is the square of norm of a center\n",
    "    third_term = \n",
    "    \n",
    "    D = np.tile(first_term, (k, 1)).T - second_term + np.tile(third_term, (n,1))\n",
    "    D[D < 0] = 0\n",
    "    \n",
    "    return D"
   ]
  },
  {
   "cell_type": "code",
   "execution_count": null,
   "metadata": {
    "collapsed": false
   },
   "outputs": [],
   "source": [
    "centers = init_centers(points, k)\n",
    "%timeit D = compute_d2(points, centers)\n",
    "%timeit D = compute_d2_fast(points, centers)"
   ]
  },
  {
   "cell_type": "code",
   "execution_count": null,
   "metadata": {
    "collapsed": true
   },
   "outputs": [],
   "source": [
    "def cluster_points(D): \n",
    "    return np.argmin(D, axis=1)"
   ]
  },
  {
   "cell_type": "code",
   "execution_count": null,
   "metadata": {
    "collapsed": true
   },
   "outputs": [],
   "source": [
    "def update_centers(X, clustering):\n",
    "    centers = np.empty((k, d))\n",
    "    for i in range(k):\n",
    "        members = (clustering == i)\n",
    "        if any(members):\n",
    "            centers[i, :] = np.mean(X[members, :], axis=0)\n",
    "    return centers"
   ]
  },
  {
   "cell_type": "code",
   "execution_count": null,
   "metadata": {
    "collapsed": true
   },
   "outputs": [],
   "source": [
    "def WCSS(D):\n",
    "    min_val = np.amin(D, axis=1)\n",
    "    return np.sum(min_val)"
   ]
  },
  {
   "cell_type": "code",
   "execution_count": null,
   "metadata": {
    "collapsed": true
   },
   "outputs": [],
   "source": [
    "def has_converged(old_centers, centers):\n",
    "    return set([tuple(x) for x in old_centers]) == set([tuple(x) for x in centers])"
   ]
  },
  {
   "cell_type": "code",
   "execution_count": null,
   "metadata": {
    "collapsed": true
   },
   "outputs": [],
   "source": [
    "def kmeans(X, k):\n",
    "    old_centers = init_centers(X, k)\n",
    "    centers = init_centers(X, k)\n",
    "    i = 1\n",
    "    while not has_converged(old_centers, centers):\n",
    "        old_centers = centers\n",
    "        D = compute_d2_fast(X, centers)\n",
    "        clustering = cluster_points(D)\n",
    "        centers = update_centers(X, clustering)\n",
    "        print \"iteration\", i, \"WCSS = \", WCSS(D)\n",
    "        i += 1\n",
    "    return clustering"
   ]
  },
  {
   "cell_type": "code",
   "execution_count": null,
   "metadata": {
    "collapsed": false
   },
   "outputs": [],
   "source": [
    "clustering = kmeans(points, k)"
   ]
  },
  {
   "cell_type": "code",
   "execution_count": null,
   "metadata": {
    "collapsed": false
   },
   "outputs": [],
   "source": [
    "df['clustering'] = clustering\n",
    "sns.lmplot(data=df, x=\"x_1\", y=\"x_2\", hue=\"clustering\", fit_reg=False,)"
   ]
  },
  {
   "cell_type": "markdown",
   "metadata": {},
   "source": [
    "### K-means implementation in Scipy"
   ]
  },
  {
   "cell_type": "code",
   "execution_count": null,
   "metadata": {
    "collapsed": true
   },
   "outputs": [],
   "source": [
    "from scipy.cluster.vq import kmeans,vq"
   ]
  },
  {
   "cell_type": "code",
   "execution_count": null,
   "metadata": {
    "collapsed": true
   },
   "outputs": [],
   "source": [
    "centers, distortion = kmeans(points, k)\n",
    "clustering,_ = vq(points, centers)"
   ]
  },
  {
   "cell_type": "code",
   "execution_count": null,
   "metadata": {
    "collapsed": false
   },
   "outputs": [],
   "source": [
    "df['clustering'] = clustering\n",
    "sns.lmplot(data=df, x=\"x_1\", y=\"x_2\", hue=\"clustering\", fit_reg=False,)"
   ]
  },
  {
   "cell_type": "markdown",
   "metadata": {},
   "source": [
    "### Elbow method to determine a good k"
   ]
  },
  {
   "cell_type": "code",
   "execution_count": null,
   "metadata": {
    "collapsed": true
   },
   "outputs": [],
   "source": [
    "df_kcurve = pd.DataFrame(columns = ['k', 'distortion']) \n",
    "for k in range(1,10):\n",
    "    _, distortion = kmeans(points, k)\n",
    "    df_kcurve.loc[k] = [k, distortion]"
   ]
  },
  {
   "cell_type": "code",
   "execution_count": null,
   "metadata": {
    "collapsed": true
   },
   "outputs": [],
   "source": [
    "df_kcurve.plot(x=\"k\", y=\"distortion\")"
   ]
  },
  {
   "cell_type": "markdown",
   "metadata": {},
   "source": [
    "### Exercise: implement K-means++\n",
    "You only need to modify the init_centers function."
   ]
  },
  {
   "cell_type": "code",
   "execution_count": null,
   "metadata": {
    "collapsed": true
   },
   "outputs": [],
   "source": [
    "def init_centers_kplusplus(X, k):\n",
    "    # @YOUSE: implement the initialization step in k-means++ \n",
    "    pass"
   ]
  }
 ],
 "metadata": {
  "kernelspec": {
   "display_name": "Python 2",
   "language": "python",
   "name": "python2"
  },
  "language_info": {
   "codemirror_mode": {
    "name": "ipython",
    "version": 2
   },
   "file_extension": ".py",
   "mimetype": "text/x-python",
   "name": "python",
   "nbconvert_exporter": "python",
   "pygments_lexer": "ipython2",
   "version": "2.7.10"
  }
 },
 "nbformat": 4,
 "nbformat_minor": 0
}
