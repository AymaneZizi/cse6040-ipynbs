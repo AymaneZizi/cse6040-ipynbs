{
 "cells": [
  {
   "cell_type": "markdown",
   "metadata": {},
   "source": [
    "# CSE 6040, Fall 2015 [02]: Intro to Python\n",
    "\n",
    "In this class, you will do most of your programming in the [Python](http://python.org) language. It is great for rapid prototyping, yet robust enough for industrial use -- in fact, Python is also one of the 3 main languages in use at Google!\n",
    "\n",
    "> Q: Can you name the other two?\n",
    "\n",
    "It also has extensive library support, meaning a lot of the code you will need day-to-day already exists -- you just need to find it, download it (if necessary), and start using it in your own programs.\n",
    "\n",
    "If you want to impress your computer science friends at a cocktail party, then try to remember that Python\n",
    "* is _interpreted_, rather than compiled;\n",
    "* is _dynamically typed_, rather than statically typed;\n",
    "* supports _automatic garbage collection_, rather than manual memory allocation;\n",
    "* has _functional_ programming constructs, in addition to imperative programming.\n",
    "\n",
    "Enough CS gobbledygook. Let's write some code!\n",
    "\n",
    "\n",
    "## Exercise 1: Hello, world!\n",
    "\n",
    "In CS, the first program you write when learning a language is, for some bizarre reason, the one that outputs the phrase, [\"Hello, world!\"](https://en.wikipedia.org/wiki/%22Hello,_World!%22_program)"
   ]
  },
  {
   "cell_type": "code",
   "execution_count": null,
   "metadata": {
    "collapsed": false,
    "scrolled": true
   },
   "outputs": [],
   "source": []
  },
  {
   "cell_type": "markdown",
   "metadata": {},
   "source": [
    "## Exercise 2: Summing an array of values\n",
    "\n",
    "Here's a snippet of code that creates an array (list) of size `n` and sums its elements."
   ]
  },
  {
   "cell_type": "code",
   "execution_count": null,
   "metadata": {
    "collapsed": false
   },
   "outputs": [],
   "source": []
  },
  {
   "cell_type": "markdown",
   "metadata": {
    "collapsed": true
   },
   "source": [
    "## Exercise 3: Correctness and efficiency\n",
    "\n",
    "It's probably obvious that one of your main goals is to write _correct_ programs. But another important goal, especially if you want to scale to large data sets, is _efficiency_.\n",
    "\n",
    "Often, efficiency is possible through the use of the right _idioms_. Just like idioms in natural language, programming language idioms are frequent shortcuts for implementing a particular idea.\n",
    "\n",
    "Consider two different ways to carry out the sum of `n` elements, as above. You should observe that one is much faster than the other. Why?"
   ]
  },
  {
   "cell_type": "code",
   "execution_count": null,
   "metadata": {
    "collapsed": false
   },
   "outputs": [],
   "source": []
  },
  {
   "cell_type": "code",
   "execution_count": null,
   "metadata": {
    "collapsed": true
   },
   "outputs": [],
   "source": []
  }
 ],
 "metadata": {
  "kernelspec": {
   "display_name": "Python 2",
   "language": "python",
   "name": "python2"
  },
  "language_info": {
   "codemirror_mode": {
    "name": "ipython",
    "version": 2
   },
   "file_extension": ".py",
   "mimetype": "text/x-python",
   "name": "python",
   "nbconvert_exporter": "python",
   "pygments_lexer": "ipython2",
   "version": "2.7.6"
  }
 },
 "nbformat": 4,
 "nbformat_minor": 0
}
