{
 "cells": [
  {
   "cell_type": "markdown",
   "metadata": {},
   "source": [
    "# CSE 6040, Fall 2015 [24]: \"Online\" regression"
   ]
  },
  {
   "cell_type": "markdown",
   "metadata": {},
   "source": [
    "This notebook continues the linear regression problem from last time, but asks about a method that can estimate the regression coefficients when you only get to see samples \"one-at-a-time.\" We refer to such a fitting procedure as being \"online,\" rather than \"offline\" (\"batched\")."
   ]
  },
  {
   "cell_type": "code",
   "execution_count": null,
   "metadata": {
    "collapsed": true
   },
   "outputs": [],
   "source": [
    "import numpy as np\n",
    "import matplotlib.pyplot as plt\n",
    "%matplotlib inline"
   ]
  },
  {
   "cell_type": "markdown",
   "metadata": {},
   "source": [
    "## Scalability with the problem size"
   ]
  },
  {
   "cell_type": "code",
   "execution_count": null,
   "metadata": {
    "collapsed": false
   },
   "outputs": [],
   "source": [
    "def generate_model (d):\n",
    "    \"\"\"Returns a set of d+1 linear model coefficients.\"\"\"\n",
    "    return np.random.rand (d+1, 1)\n",
    "\n",
    "def generate_data (m, x, sigma=2.**0.5):\n",
    "    \"\"\"\n",
    "    Generates 'm' noisy observations for a linear model whose\n",
    "    predictor (non-intercept) coefficients are given in 'x'.\n",
    "    \"\"\"\n",
    "    assert (type (x) is np.ndarray) and (x.ndim == 2) and (x.shape[1] == 1)\n",
    "    n = len (x)\n",
    "    A = np.random.rand (m, n)\n",
    "    A[:, 0] = 1.0\n",
    "    b = A.dot (x) + sigma*np.random.randn (m, 1)\n",
    "    return (A, b)\n",
    "\n",
    "def estimate_coeffs (A, b):\n",
    "    \"\"\"\n",
    "    Solves Ax=b by a linear least squares method.\n",
    "    \"\"\"\n",
    "    result = np.linalg.lstsq (A, b)\n",
    "    x = result[0]\n",
    "    return x"
   ]
  },
  {
   "cell_type": "code",
   "execution_count": null,
   "metadata": {
    "collapsed": false
   },
   "outputs": [],
   "source": [
    "# Demo the above routines for a 2-D dataset.\n",
    "\n",
    "m = 50\n",
    "x_true = generate_model (1)\n",
    "(A, b) = generate_data (m, x_true)\n",
    "\n",
    "print A.shape\n",
    "print x_true.shape\n",
    "print b.shape\n",
    "\n",
    "print \"Condition number of the data matrix: \", np.linalg.cond (A)\n",
    "print \"True solution:\", x_true.T\n",
    "\n",
    "x = estimate_coeffs (A, b)\n",
    "\n",
    "print \"Computed solution:\", x.T\n",
    "\n",
    "fig = plt.figure()\n",
    "ax1 = fig.add_subplot(111)\n",
    "ax1.plot (A[:, 1], b, 'b+') # Noisy observations\n",
    "ax1.plot (A[:, 1], A.dot (x), 'r*') # Fit\n",
    "ax1.plot (A[:, 1], A.dot (x_true), 'go') # True solution"
   ]
  },
  {
   "cell_type": "code",
   "execution_count": null,
   "metadata": {
    "collapsed": false
   },
   "outputs": [],
   "source": [
    "# Benchmark, as 'm' varies:\n",
    "\n",
    "n = 32 # dimension\n",
    "M = [100, 1000, 10000, 100000, 1000000]\n",
    "times = [0.] * len (M)\n",
    "for (i, m) in enumerate (M):\n",
    "    x_true = generate_model (n)\n",
    "    (A, b) = generate_data (m, x_true)\n",
    "    t = %timeit -o estimate_coeffs (A, b)\n",
    "    times[i] = t.best"
   ]
  },
  {
   "cell_type": "code",
   "execution_count": null,
   "metadata": {
    "collapsed": false
   },
   "outputs": [],
   "source": [
    "t_linear = [times[0]/M[0]*m for m in M]\n",
    "\n",
    "fig = plt.figure()\n",
    "ax1 = fig.add_subplot(111)\n",
    "ax1.loglog (M, times, 'bo')\n",
    "ax1.loglog (M, t_linear, 'r--')"
   ]
  },
  {
   "cell_type": "code",
   "execution_count": null,
   "metadata": {
    "collapsed": false
   },
   "outputs": [],
   "source": [
    "N = [2, 4, 8, 16, 32, 64, 128, 256]\n",
    "m = 100000\n",
    "times = [0.] * len (N)\n",
    "for (i, n) in enumerate (N):\n",
    "    x_true = generate_model (n)\n",
    "    (A, b) = generate_data (m, x_true)\n",
    "    t = %timeit -o estimate_coeffs (A, b)\n",
    "    times[i] = t.best"
   ]
  },
  {
   "cell_type": "code",
   "execution_count": null,
   "metadata": {
    "collapsed": false
   },
   "outputs": [],
   "source": [
    "t_linear = [times[0]/N[0]*n for n in N]\n",
    "t_quadratic = [times[0]/N[0]/N[0]*n*n for n in N]\n",
    "\n",
    "fig = plt.figure()\n",
    "ax1 = fig.add_subplot(111)\n",
    "ax1.loglog (N, times, 'bo')\n",
    "ax1.loglog (N, t_linear, 'r--')\n",
    "ax1.loglog (N, t_quadratic, 'g--')"
   ]
  },
  {
   "cell_type": "code",
   "execution_count": null,
   "metadata": {
    "collapsed": false
   },
   "outputs": [],
   "source": [
    "m = 100000\n",
    "d = 1\n",
    "x_true = generate_model (d)\n",
    "(A, b) = generate_data (m, x_true)\n",
    "\n",
    "print \"Condition number of the data matrix: \", np.linalg.cond (A)\n",
    "\n",
    "x = estimate_coeffs (A, b)\n",
    "r = x - x_true\n",
    "\n",
    "e_abs = np.linalg.norm (np.abs (r), ord=2)\n",
    "e_rel = e_abs / np.linalg.norm (np.linalg.norm (x_true))\n",
    "\n",
    "print \"Absolute error:\", e_abs\n",
    "print \"Relative error:\", e_rel\n",
    "\n",
    "%timeit estimate_coeffs (A, b)"
   ]
  },
  {
   "cell_type": "code",
   "execution_count": null,
   "metadata": {
    "collapsed": false
   },
   "outputs": [],
   "source": [
    "lambda_max = max (np.linalg.eigvals (A.T.dot (A)))\n",
    "print lambda_max"
   ]
  },
  {
   "cell_type": "code",
   "execution_count": null,
   "metadata": {
    "collapsed": false
   },
   "outputs": [],
   "source": [
    "MU = 2.0 / lambda_max\n",
    "X = np.zeros ((d+1, m+1))\n",
    "X[:, 0] = A[0, :].T\n",
    "\n",
    "# @YOUSE: FILL IN ONLINE ALGORITHM HERE"
   ]
  },
  {
   "cell_type": "code",
   "execution_count": null,
   "metadata": {
    "collapsed": false
   },
   "outputs": [],
   "source": [
    "def rel_diff (x, y):\n",
    "    return np.linalg.norm (x - y) / np.linalg.norm (y)\n",
    "\n",
    "rel_errs = [rel_diff (X[:, k], x_true) for k in range (m+1)]\n",
    "print x_true.T\n",
    "print x.T\n",
    "print X[:, m]"
   ]
  },
  {
   "cell_type": "code",
   "execution_count": null,
   "metadata": {
    "collapsed": false
   },
   "outputs": [],
   "source": [
    "plt.plot (range (m+1), rel_errs)"
   ]
  },
  {
   "cell_type": "code",
   "execution_count": null,
   "metadata": {
    "collapsed": false
   },
   "outputs": [],
   "source": [
    "fig = plt.figure()\n",
    "ax1 = fig.add_subplot(111)\n",
    "ax1.plot (A[:, 1], b, 'b+')\n",
    "ax1.plot (A[:, 1], A.dot (x_true), 'r*')\n",
    "ax1.plot (A[:, 1], A.dot (X[:, m]), 'go')"
   ]
  },
  {
   "cell_type": "code",
   "execution_count": null,
   "metadata": {
    "collapsed": true
   },
   "outputs": [],
   "source": []
  }
 ],
 "metadata": {
  "kernelspec": {
   "display_name": "Python 2",
   "language": "python",
   "name": "python2"
  },
  "language_info": {
   "codemirror_mode": {
    "name": "ipython",
    "version": 2
   },
   "file_extension": ".py",
   "mimetype": "text/x-python",
   "name": "python",
   "nbconvert_exporter": "python",
   "pygments_lexer": "ipython2",
   "version": "2.7.10"
  }
 },
 "nbformat": 4,
 "nbformat_minor": 0
}
